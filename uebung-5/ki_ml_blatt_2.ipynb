{
 "cells": [
  {
   "cell_type": "markdown",
   "metadata": {},
   "source": [
    "# Blatt 5 KI Machine Learning / Deep Learning\n",
    "\n",
    "* Ausgabe: 1  Juni 2021\n",
    "* Abgabe:  15 Juni 2021 "
   ]
  },
  {
   "cell_type": "markdown",
   "metadata": {},
   "source": [
    "## Aufgabe 1 (Fully Connected Neural Network)\n",
    "\n",
    "Bearbeiten Sie das Notebook: \n",
    "\n",
    "* https://github.com/oduerr/ki/blob/main/excercise_2/nb_ch02_02a.ipynb \n",
    "\n",
    "und beantwoten die Fragen, die dort gestellt werden. Wenn Sie wollen können Sie das notebook, gleich in colab über diesen Link öffnen:\n",
    "\n",
    "* https://colab.research.google.com/github/oduerr/ki/blob/main/excercise_2/nb_ch02_02a.ipynb"
   ]
  },
  {
   "cell_type": "markdown",
   "metadata": {},
   "source": [
    "## Aufgabe 2 CNN\n",
    "\n",
    "TODO Mathias"
   ]
  },
  {
   "cell_type": "code",
   "execution_count": null,
   "metadata": {},
   "outputs": [],
   "source": []
  }
 ],
 "metadata": {
  "kernelspec": {
   "display_name": "Python 3",
   "language": "python",
   "name": "python3"
  },
  "language_info": {
   "codemirror_mode": {
    "name": "ipython",
    "version": 3
   },
   "file_extension": ".py",
   "mimetype": "text/x-python",
   "name": "python",
   "nbconvert_exporter": "python",
   "pygments_lexer": "ipython3",
   "version": "3.8.5"
  }
 },
 "nbformat": 4,
 "nbformat_minor": 4
}
